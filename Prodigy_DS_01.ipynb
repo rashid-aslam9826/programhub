{
  "nbformat": 4,
  "nbformat_minor": 0,
  "metadata": {
    "colab": {
      "provenance": [],
      "mount_file_id": "1ivI2hak7NhrocjcrrgP4pMLvcLWvVPR9",
      "authorship_tag": "ABX9TyMl0yahW9AxjqDrOHmWlK8l",
      "include_colab_link": true
    },
    "kernelspec": {
      "name": "python3",
      "display_name": "Python 3"
    },
    "language_info": {
      "name": "python"
    }
  },
  "cells": [
    {
      "cell_type": "markdown",
      "metadata": {
        "id": "view-in-github",
        "colab_type": "text"
      },
      "source": [
        "<a href=\"https://colab.research.google.com/github/rashid-aslam9826/programhub/blob/main/Prodigy_DS_01.ipynb\" target=\"_parent\"><img src=\"https://colab.research.google.com/assets/colab-badge.svg\" alt=\"Open In Colab\"/></a>"
      ]
    },
    {
      "cell_type": "code",
      "execution_count": null,
      "metadata": {
        "id": "krh-v9bn14p6"
      },
      "outputs": [],
      "source": [
        "import pandas as pad\n",
        "import matplotlib.pyplot as plt"
      ]
    }
  ]
}